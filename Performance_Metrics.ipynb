{
  "nbformat": 4,
  "nbformat_minor": 0,
  "metadata": {
    "colab": {
      "name": "Performance Metrics.ipynb",
      "provenance": [],
      "collapsed_sections": []
    },
    "kernelspec": {
      "display_name": "Python 3",
      "name": "python3"
    }
  },
  "cells": [
    {
      "cell_type": "code",
      "metadata": {
        "id": "j13Buz3IF05g"
      },
      "source": [
        "import numpy as np\n",
        "import pandas as pd\n",
        "from tqdm import tqdm # Imported tqdm to check the progress rate of computations\n",
        "# other than these two you should not import any other packages"
      ],
      "execution_count": 1,
      "outputs": []
    },
    {
      "cell_type": "code",
      "metadata": {
        "colab": {
          "resources": {
            "http://localhost:8080/nbextensions/google.colab/files.js": {
              "data": "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",
              "ok": true,
              "headers": [
                [
                  "content-type",
                  "application/javascript"
                ]
              ],
              "status": 200,
              "status_text": ""
            }
          },
          "base_uri": "https://localhost:8080/",
          "height": 207
        },
        "id": "qwlSxk-bF618",
        "outputId": "d7049f52-4a35-4c32-d139-fbf29c887358"
      },
      "source": [
        "from google.colab import files\n",
        "uploaded = files.upload()"
      ],
      "execution_count": 2,
      "outputs": [
        {
          "output_type": "display_data",
          "data": {
            "text/html": [
              "\n",
              "     <input type=\"file\" id=\"files-008f0b5e-7295-4a5a-a867-6f513f576fe3\" name=\"files[]\" multiple disabled\n",
              "        style=\"border:none\" />\n",
              "     <output id=\"result-008f0b5e-7295-4a5a-a867-6f513f576fe3\">\n",
              "      Upload widget is only available when the cell has been executed in the\n",
              "      current browser session. Please rerun this cell to enable.\n",
              "      </output>\n",
              "      <script src=\"/nbextensions/google.colab/files.js\"></script> "
            ],
            "text/plain": [
              "<IPython.core.display.HTML object>"
            ]
          },
          "metadata": {
            "tags": []
          }
        },
        {
          "output_type": "stream",
          "text": [
            "Saving 5_a.csv to 5_a.csv\n",
            "Saving 5_a.xlsx to 5_a.xlsx\n",
            "Saving 5_b.csv to 5_b.csv\n",
            "Saving 5_c.csv to 5_c.csv\n",
            "Saving 5_d.csv to 5_d.csv\n"
          ],
          "name": "stdout"
        }
      ]
    },
    {
      "cell_type": "code",
      "metadata": {
        "id": "soFpLf9-GDeh"
      },
      "source": [
        "def confusion_mat(y_score,y_pred):\n",
        "  \"\"\"Computing the components of the confusion matrix\"\"\"\n",
        "  TP=0\n",
        "  TN=0\n",
        "  FP=0\n",
        "  FN=0\n",
        "  for i in range(len(y_pred)):\n",
        "      if y_score[i]==1 and y_pred[i]==1: #Both label and predication = positive\n",
        "          TP+=1\n",
        "      if y_score[i]==y_pred[i]==0: #Both label and predication = negative\n",
        "          TN+=1\n",
        "      if y_pred[i]==1 and y_pred[i]!=y_score[i]: #Pred = +ve and label = -ve\n",
        "          FP+=1\n",
        "      if y_pred[i]==0 and y_pred[i]!=y_score[i]: #Pred = -ve and label = +ve\n",
        "          FN+=1\n",
        "  return (TP,FP,TN,FN)\n",
        "def pre(score,threshold):\n",
        "  \"\"\"Assigns class label based on the threshold value\"\"\"\n",
        "  if score < threshold:\n",
        "    return 0\n",
        "  else :\n",
        "    return 1\n"
      ],
      "execution_count": 9,
      "outputs": []
    },
    {
      "cell_type": "code",
      "metadata": {
        "colab": {
          "base_uri": "https://localhost:8080/"
        },
        "id": "gl6dHFH4GjeV",
        "outputId": "f1f4ad8a-230a-4753-bb40-056357a12048"
      },
      "source": [
        "# write your code here\n",
        "#Calculating f1_score ,accuracy, and the confusion matrix \n",
        "def pred(score):\n",
        "    if score < 0.5:\n",
        "        return 0\n",
        "    else:\n",
        "        return 1\n",
        "\n",
        "data =pd.read_csv('5_a.csv')\n",
        "data['y_pred'] = data['proba'].apply(pred)\n",
        "\n",
        "conf_mat = np.zeros((2,2))\n",
        "TP,FP,TN,FN = confusion_mat(data['y'],data['y_pred'])\n",
        "pr = TP/(TP+FP)\n",
        "recall = TP/(TP+FN)\n",
        "f1_score = (2*pr*recall)/(pr+recall)\n",
        "accuracy = (TN+TP)/(TP+TN+FP+FN)\n",
        "\n",
        "recall"
      ],
      "execution_count": 10,
      "outputs": [
        {
          "output_type": "execute_result",
          "data": {
            "text/plain": [
              "1.0"
            ]
          },
          "metadata": {
            "tags": []
          },
          "execution_count": 10
        }
      ]
    },
    {
      "cell_type": "code",
      "metadata": {
        "colab": {
          "base_uri": "https://localhost:8080/"
        },
        "id": "sQuWEBKBOyr6",
        "outputId": "f63543d8-9f85-4e01-c45f-f284176194ef"
      },
      "source": [
        "print('The confusion matrix :')\n",
        "print('TP,FP,TN,FN = {0} {1} {2} {3}'.format(TP,FP,TN,FN))\n",
        "print('F1_Score :  %5.2f'%(f1_score))\n",
        "print('Accuracy :  %5.2f'%(accuracy))"
      ],
      "execution_count": 12,
      "outputs": [
        {
          "output_type": "stream",
          "text": [
            "The confusion matrix :\n",
            "TP,FP,TN,FN = 10000 100 0 0\n",
            "F1_Score :   1.00\n",
            "Accuracy :   0.99\n"
          ],
          "name": "stdout"
        }
      ]
    },
    {
      "cell_type": "code",
      "metadata": {
        "colab": {
          "base_uri": "https://localhost:8080/"
        },
        "id": "IknaJf1YGmKZ",
        "outputId": "c380464f-e293-4802-e918-243d7b65752d"
      },
      "source": [
        "#Sorting the prob_scores in ascending order\n",
        "data=data.sort_values(by='proba')\n",
        "tpr=[]\n",
        "fpr=[]\n",
        "unique_prob = sorted(list(set(data['proba'])),reverse=False)\n",
        "print(unique_prob[0:10])"
      ],
      "execution_count": 13,
      "outputs": [
        {
          "output_type": "stream",
          "text": [
            "[0.5000185949718864, 0.5000473407183691, 0.5000580078593906, 0.5000581510668138, 0.5000812600762915, 0.5001975312600645, 0.5001997894475683, 0.5002436770798491, 0.5003012990201631, 0.5003078086272976]\n"
          ],
          "name": "stdout"
        }
      ]
    },
    {
      "cell_type": "code",
      "metadata": {
        "colab": {
          "base_uri": "https://localhost:8080/"
        },
        "id": "XyF-L3Q84swz",
        "outputId": "3edb975c-b870-4b5f-ab95-3581b0b4cf39"
      },
      "source": [
        "#Keeping each prob_score as threshold, computing the TPR and FPR to compute the ROC curve\n",
        "# Area under the curve by trapzoidal approximation gives the AUC score\n",
        "for i in tqdm(range(len(data))):\n",
        "  threshold = unique_prob[i]\n",
        "  data['y_hat'] = data['proba'].apply(lambda x:1 if x >= threshold else 0 )\n",
        "  TP,FP,TN,FN = confusion_mat(data['y'],data['y_hat'])\n",
        "  tpr.append(TP/(TP+FN))\n",
        "  fpr.append(FP/(TN+FP))\n",
        "tpr=sorted(tpr)\n",
        "fpr=sorted(fpr)\n",
        "auc1 = np.trapz(tpr,fpr)"
      ],
      "execution_count": 14,
      "outputs": [
        {
          "output_type": "stream",
          "text": [
            "100%|██████████| 10100/10100 [1:13:47<00:00,  2.28it/s]\n"
          ],
          "name": "stderr"
        }
      ]
    },
    {
      "cell_type": "code",
      "metadata": {
        "colab": {
          "base_uri": "https://localhost:8080/"
        },
        "id": "vQFX-muBiqR7",
        "outputId": "39622175-cece-422f-b23b-34e42e62425d"
      },
      "source": [
        "print('AUC Score : {0}'.format(auc11))"
      ],
      "execution_count": 19,
      "outputs": [
        {
          "output_type": "stream",
          "text": [
            "AUC Score : 0.48829900000000004\n"
          ],
          "name": "stdout"
        }
      ]
    },
    {
      "cell_type": "code",
      "metadata": {
        "colab": {
          "base_uri": "https://localhost:8080/"
        },
        "id": "7tbPM2SZ6TT6",
        "outputId": "33a9221f-6480-401c-f2f9-55b423a05785"
      },
      "source": [
        "print(auc1)\n",
        "auc11=auc1"
      ],
      "execution_count": 15,
      "outputs": [
        {
          "output_type": "stream",
          "text": [
            "0.48829900000000004\n"
          ],
          "name": "stdout"
        }
      ]
    },
    {
      "cell_type": "code",
      "metadata": {
        "colab": {
          "base_uri": "https://localhost:8080/"
        },
        "id": "HlgQkqQrXBxK",
        "outputId": "718b226a-241e-4e7c-ad0f-45058283e325"
      },
      "source": [
        "#Calculating f1_score ,accuracy, and the confusion matrix for task B\n",
        "def pred(score):\n",
        "    if score < 0.5:\n",
        "        return 0\n",
        "    else:\n",
        "        return 1\n",
        "\n",
        "data =pd.read_csv('5_b.csv')\n",
        "data['y_pred'] = data['proba'].apply(pred)\n",
        "\n",
        "conf_mat = np.zeros((2,2))\n",
        "conf_mat[0][0],conf_mat[0][1],conf_mat[1][1],conf_mat[1][0] = confusion_mat(data['y'],data['y_pred'])\n",
        "TP,FP,TN,FN = confusion_mat(data['y'],data['y_pred'])\n",
        "pr = TP/(TP+FP)\n",
        "recall = TP/(TP+FN)\n",
        "f1_score = (2*pr*recall)/(pr+recall)\n",
        "accuracy = (TN+TP)/(TP+TN+FP+FN)\n",
        "print(accuracy)\n",
        "recall"
      ],
      "execution_count": 25,
      "outputs": [
        {
          "output_type": "stream",
          "text": [
            "0.9718811881188119\n"
          ],
          "name": "stdout"
        },
        {
          "output_type": "execute_result",
          "data": {
            "text/plain": [
              "0.55"
            ]
          },
          "metadata": {
            "tags": []
          },
          "execution_count": 25
        }
      ]
    },
    {
      "cell_type": "code",
      "metadata": {
        "colab": {
          "base_uri": "https://localhost:8080/"
        },
        "id": "zabl-oPQQZTC",
        "outputId": "fede87fe-4f9a-4c3b-faf4-19a7ec6f5971"
      },
      "source": [
        "print('The confusion matrix :')\n",
        "print('TP,FP,TN,FN = {0} {1} {2} {3}'.format(TP,FP,TN,FN))\n",
        "print('F1_Score :  %5.2f'%(f1_score))\n",
        "print('Accuracy :  %5.2f'%(accuracy))"
      ],
      "execution_count": 26,
      "outputs": [
        {
          "output_type": "stream",
          "text": [
            "The confusion matrix :\n",
            "TP,FP,TN,FN = 55 239 9761 45\n",
            "F1_Score :   0.28\n",
            "Accuracy :   0.97\n"
          ],
          "name": "stdout"
        }
      ]
    },
    {
      "cell_type": "code",
      "metadata": {
        "id": "JRZbNx0COemZ",
        "colab": {
          "base_uri": "https://localhost:8080/"
        },
        "outputId": "b7763b04-7b31-4910-9e0b-7e0eeb947a2e"
      },
      "source": [
        "#Sorting the prob_scores in ascending order\n",
        "#Keeping each prob_score as threshold, computing the TPR and FPR to compute the ROC curve\n",
        "# Area under the curve by trapzoidal approximation gives the AUC score\n",
        "data=data.sort_values(by='proba')\n",
        "tpr=[]\n",
        "fpr=[]\n",
        "unique_prob = sorted(list(set(data['proba'])),reverse=False)\n",
        "for i in tqdm(range(len(data))):\n",
        "  threshold = unique_prob[i]\n",
        "  data['y_hat'] = data['proba'].apply(lambda x:1 if x >= threshold else 0 )\n",
        "  TP,FP,TN,FN = confusion_mat(data['y'],data['y_hat'])\n",
        "  tpr.append(TP/(TP+FN))\n",
        "  fpr.append(FP/(TN+FP))\n",
        "tpr=sorted(tpr)\n",
        "fpr=sorted(fpr)\n",
        "auc = np.trapz(tpr,fpr)"
      ],
      "execution_count": 27,
      "outputs": [
        {
          "output_type": "stream",
          "text": [
            "100%|██████████| 10100/10100 [1:05:35<00:00,  2.57it/s]\n"
          ],
          "name": "stderr"
        }
      ]
    },
    {
      "cell_type": "code",
      "metadata": {
        "colab": {
          "base_uri": "https://localhost:8080/"
        },
        "id": "ldFH7pIkpvl_",
        "outputId": "46f2efcd-fbc0-4515-a044-3f94dbd4c0cb"
      },
      "source": [
        "auc22=auc\n",
        "print('AUC Score : {0}'.format(auc22))"
      ],
      "execution_count": 29,
      "outputs": [
        {
          "output_type": "stream",
          "text": [
            "AUC Score : 0.9377570000000001\n"
          ],
          "name": "stdout"
        }
      ]
    },
    {
      "cell_type": "code",
      "metadata": {
        "id": "gfNxr7OKGGuq"
      },
      "source": [
        "df = pd.read_csv('5_c.csv')\n",
        "df.head()\n",
        "df['y_pred'] = df['prob'].apply(pred)\n"
      ],
      "execution_count": null,
      "outputs": []
    },
    {
      "cell_type": "code",
      "metadata": {
        "id": "oX7brBHZHtpC"
      },
      "source": [
        "#Computing the A metric\n",
        "def compute_A(fn,fp):\n",
        "  return 500*fn+100*fp\n",
        "df=df.sort_values(by='prob')\n",
        "A=[]\n",
        "fpr=[]\n",
        "unique_prob = sorted(list(set(data['proba'])),reverse=False)"
      ],
      "execution_count": null,
      "outputs": []
    },
    {
      "cell_type": "code",
      "metadata": {
        "colab": {
          "base_uri": "https://localhost:8080/"
        },
        "id": "AKS6TJAeIEVR",
        "outputId": "110773b9-8b84-4ab9-895c-24ebe8d8da03"
      },
      "source": [
        "#Computing the best threshold of probablity which gives the lowest value of the A metric\n",
        "for i in tqdm(range(len(df))):\n",
        "  threshold = unique_prob[i]\n",
        "  data['y_hat'] = data['proba'].apply(lambda x:1 if x >= threshold else 0 )\n",
        "  TP,FP,TN,FN = confusion_mat(data['y'],data['y_hat'])\n",
        "  A.append(compute_A(FN,FP))\n",
        "\n",
        "best_threshold = unique_prob[A.index(min(A))]"
      ],
      "execution_count": null,
      "outputs": [
        {
          "output_type": "stream",
          "text": [
            "100%|██████████| 2852/2852 [13:27<00:00,  3.53it/s]\n"
          ],
          "name": "stderr"
        }
      ]
    },
    {
      "cell_type": "code",
      "metadata": {
        "colab": {
          "base_uri": "https://localhost:8080/"
        },
        "id": "-IqQHl-QM94y",
        "outputId": "da301b35-abea-4423-f09f-67cd3a4a9e8d"
      },
      "source": [
        "print('best threshold of probablity which gives the lowest value of the A metric: %5.2f'%(best_threshold))"
      ],
      "execution_count": null,
      "outputs": [
        {
          "output_type": "stream",
          "text": [
            "best threshold of probablity which gives the lowest value of the A metric:  0.21\n"
          ],
          "name": "stdout"
        }
      ]
    },
    {
      "cell_type": "code",
      "metadata": {
        "colab": {
          "base_uri": "https://localhost:8080/"
        },
        "id": "QvjbYksvQ5dL",
        "outputId": "8b88d8fc-b0e9-4183-d105-d84f3c092c45"
      },
      "source": [
        "data = pd.read_csv('5_d.csv')\n",
        "data.head()\n",
        "data['diff']= (data['y']-data['pred'])**2\n",
        "data.head()\n",
        "MSE = np.sum(data['diff'],axis=0)/len(data)\n",
        "print('MSE: %5.2f' %(MSE))"
      ],
      "execution_count": null,
      "outputs": [
        {
          "output_type": "stream",
          "text": [
            "MSE: 177.17\n"
          ],
          "name": "stdout"
        }
      ]
    },
    {
      "cell_type": "code",
      "metadata": {
        "colab": {
          "base_uri": "https://localhost:8080/"
        },
        "id": "uznY-pARRCxS",
        "outputId": "8ce5ae5f-ea72-4897-de3c-cabde9840559"
      },
      "source": [
        "sum1=0\n",
        "sum2=0\n",
        "for i in range(len(data)):\n",
        "  sum1+=(np.absolute(data['y'][i]-data['pred'][i]))\n",
        "  sum2+=(data['y'][i])\n",
        "MAPE = sum1/sum2\n",
        "print('Modified MAPE : %5.2f' %(MAPE))"
      ],
      "execution_count": null,
      "outputs": [
        {
          "output_type": "stream",
          "text": [
            "Modified MAPE :  0.13\n"
          ],
          "name": "stdout"
        }
      ]
    },
    {
      "cell_type": "code",
      "metadata": {
        "id": "r0vx1IrvWmD8",
        "colab": {
          "base_uri": "https://localhost:8080/"
        },
        "outputId": "9557de70-6a60-488e-9981-04c51b1bafe5"
      },
      "source": [
        "y_bar = np.sum(data['y'],axis=0)/len(data)\n",
        "data['sq-diff'] =  (data['y']-y_bar)**2\n",
        "SST = np.sum(data['sq-diff'])\n",
        "data['residual'] = (data['y']-data['pred'])**2\n",
        "SSR = np.sum(data['residual'])     \n",
        "R_sqaure = -(SSR/SST)+1      \n",
        "print('R^2 Error : %5.3f' %(R_sqaure))        "
      ],
      "execution_count": null,
      "outputs": [
        {
          "output_type": "stream",
          "text": [
            "R^2 Error : 0.956\n"
          ],
          "name": "stdout"
        }
      ]
    },
    {
      "cell_type": "code",
      "metadata": {
        "id": "Tdfo_tc4TqWh"
      },
      "source": [
        ""
      ],
      "execution_count": null,
      "outputs": []
    }
  ]
}